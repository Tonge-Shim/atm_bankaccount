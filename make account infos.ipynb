{
 "cells": [
  {
   "cell_type": "code",
   "execution_count": 56,
   "metadata": {},
   "outputs": [],
   "source": [
    "import random\n",
    "import string\n",
    "import pandas as pd\n",
    "from pandas import Series, DataFrame\n",
    "\n"
   ]
  },
  {
   "cell_type": "code",
   "execution_count": null,
   "metadata": {},
   "outputs": [],
   "source": [
    "Card_ID = []\n",
    "num = random.randrange(0, 100)\n",
    "for i in range(100) :\n",
    "    while num in Card_ID : # 중복될 경우\n",
    "        num = random.randrange(0, 100) # 다시 난수 생성\n",
    "    Card_ID.append(num)\n",
    "#int"
   ]
  },
  {
   "cell_type": "code",
   "execution_count": 13,
   "metadata": {},
   "outputs": [],
   "source": [
    "PIN = []\n",
    "pw_len = 6 # 새 비밀번호 길이\n",
    "pw_candidate = string.digits\n",
    "new_pw = ''\n",
    "for i in range(pw_len):\n",
    "    new_pw += random.choice(pw_candidate)\n",
    "for _ in range(100):\n",
    "    while new_pw in PIN:\n",
    "        new_pw = ''\n",
    "        for i in range(pw_len):\n",
    "            new_pw += random.choice(pw_candidate)\n",
    "    PIN.append(new_pw)"
   ]
  },
  {
   "cell_type": "code",
   "execution_count": 42,
   "metadata": {},
   "outputs": [],
   "source": [
    "def make_acc_name(L):\n",
    "    name_len = L\n",
    "    name_candidate = string.ascii_letters\n",
    "    name = ''\n",
    "    for i in range(name_len):\n",
    "        name += random.choice(name_candidate)\n",
    "    return name\n",
    "def make_balance(L):\n",
    "    bal_len = L\n",
    "    bal_candidate = string.digits\n",
    "    balance = str(random.randrange(1, 10))\n",
    "    for i in range(bal_len - 1):\n",
    "        balance += random.choice(bal_candidate)\n",
    "    return int(balance)"
   ]
  },
  {
   "cell_type": "code",
   "execution_count": 43,
   "metadata": {},
   "outputs": [
    {
     "data": {
      "text/plain": [
       "57316"
      ]
     },
     "execution_count": 43,
     "metadata": {},
     "output_type": "execute_result"
    }
   ],
   "source": [
    "a = make_acc_name(3)\n",
    "b = make_balance(5)\n",
    "b"
   ]
  },
  {
   "cell_type": "code",
   "execution_count": 98,
   "metadata": {},
   "outputs": [],
   "source": [
    "acc_info_list = []\n",
    "name_len = random.randrange(1, 11)\n",
    "for i in range(100):#100 cards\n",
    "    per_acc = []\n",
    "    for i in range(random.randrange(1, 5)):# random accounts\n",
    "        account_name = make_acc_name(random.randrange(1,10))\n",
    "        account_balance = make_balance(random.randrange(1,10))\n",
    "        per_acc.append([account_name, account_balance])\n",
    "    acc_info_list.append(per_acc)\n",
    "\n"
   ]
  },
  {
   "cell_type": "code",
   "execution_count": 99,
   "metadata": {},
   "outputs": [
    {
     "data": {
      "text/html": [
       "<div>\n",
       "<style scoped>\n",
       "    .dataframe tbody tr th:only-of-type {\n",
       "        vertical-align: middle;\n",
       "    }\n",
       "\n",
       "    .dataframe tbody tr th {\n",
       "        vertical-align: top;\n",
       "    }\n",
       "\n",
       "    .dataframe thead th {\n",
       "        text-align: right;\n",
       "    }\n",
       "</style>\n",
       "<table border=\"1\" class=\"dataframe\">\n",
       "  <thead>\n",
       "    <tr style=\"text-align: right;\">\n",
       "      <th></th>\n",
       "      <th>Card_ID</th>\n",
       "      <th>PIN</th>\n",
       "      <th>account_n_balance</th>\n",
       "    </tr>\n",
       "  </thead>\n",
       "  <tbody>\n",
       "    <tr>\n",
       "      <th>0</th>\n",
       "      <td>42</td>\n",
       "      <td>474998</td>\n",
       "      <td>[[btESi, 462042], [LcDGge, 887056], [GTBKeOFG,...</td>\n",
       "    </tr>\n",
       "    <tr>\n",
       "      <th>1</th>\n",
       "      <td>15</td>\n",
       "      <td>067544</td>\n",
       "      <td>[[Jvc, 5175], [ObmNIKJ, 183341], [tSWb, 525]]</td>\n",
       "    </tr>\n",
       "    <tr>\n",
       "      <th>2</th>\n",
       "      <td>75</td>\n",
       "      <td>814571</td>\n",
       "      <td>[[NtkVNcbNL, 362006659], [jAab, 1096833], [nrH...</td>\n",
       "    </tr>\n",
       "    <tr>\n",
       "      <th>3</th>\n",
       "      <td>12</td>\n",
       "      <td>442402</td>\n",
       "      <td>[[lPiEHPsuX, 677]]</td>\n",
       "    </tr>\n",
       "    <tr>\n",
       "      <th>4</th>\n",
       "      <td>2</td>\n",
       "      <td>160008</td>\n",
       "      <td>[[Ju, 1776]]</td>\n",
       "    </tr>\n",
       "    <tr>\n",
       "      <th>...</th>\n",
       "      <td>...</td>\n",
       "      <td>...</td>\n",
       "      <td>...</td>\n",
       "    </tr>\n",
       "    <tr>\n",
       "      <th>95</th>\n",
       "      <td>69</td>\n",
       "      <td>546962</td>\n",
       "      <td>[[wb, 36098], [hBsmhG, 6], [U, 51448534]]</td>\n",
       "    </tr>\n",
       "    <tr>\n",
       "      <th>96</th>\n",
       "      <td>54</td>\n",
       "      <td>775325</td>\n",
       "      <td>[[AviQQru, 12128782], [nbjZZQ, 448018895], [GV...</td>\n",
       "    </tr>\n",
       "    <tr>\n",
       "      <th>97</th>\n",
       "      <td>46</td>\n",
       "      <td>856822</td>\n",
       "      <td>[[Jt, 5], [RuexlQCp, 635], [kHZaJv, 50044818]]</td>\n",
       "    </tr>\n",
       "    <tr>\n",
       "      <th>98</th>\n",
       "      <td>43</td>\n",
       "      <td>970847</td>\n",
       "      <td>[[KJhV, 30457], [R, 91257], [mjx, 564714], [uK...</td>\n",
       "    </tr>\n",
       "    <tr>\n",
       "      <th>99</th>\n",
       "      <td>11</td>\n",
       "      <td>286805</td>\n",
       "      <td>[[fxkZQULc, 907], [duWseyWq, 5716598], [nSHjth...</td>\n",
       "    </tr>\n",
       "  </tbody>\n",
       "</table>\n",
       "<p>100 rows × 3 columns</p>\n",
       "</div>"
      ],
      "text/plain": [
       "    Card_ID     PIN                                  account_n_balance\n",
       "0        42  474998  [[btESi, 462042], [LcDGge, 887056], [GTBKeOFG,...\n",
       "1        15  067544      [[Jvc, 5175], [ObmNIKJ, 183341], [tSWb, 525]]\n",
       "2        75  814571  [[NtkVNcbNL, 362006659], [jAab, 1096833], [nrH...\n",
       "3        12  442402                                 [[lPiEHPsuX, 677]]\n",
       "4         2  160008                                       [[Ju, 1776]]\n",
       "..      ...     ...                                                ...\n",
       "95       69  546962          [[wb, 36098], [hBsmhG, 6], [U, 51448534]]\n",
       "96       54  775325  [[AviQQru, 12128782], [nbjZZQ, 448018895], [GV...\n",
       "97       46  856822     [[Jt, 5], [RuexlQCp, 635], [kHZaJv, 50044818]]\n",
       "98       43  970847  [[KJhV, 30457], [R, 91257], [mjx, 564714], [uK...\n",
       "99       11  286805  [[fxkZQULc, 907], [duWseyWq, 5716598], [nSHjth...\n",
       "\n",
       "[100 rows x 3 columns]"
      ]
     },
     "execution_count": 99,
     "metadata": {},
     "output_type": "execute_result"
    }
   ],
   "source": [
    "account = {'Card_ID' : Card_ID,\n",
    "           'PIN' : PIN,\n",
    "           'account_n_balance': acc_info_list\n",
    "}\n",
    "account_df = DataFrame(account)\n",
    "account_df"
   ]
  },
  {
   "cell_type": "code",
   "execution_count": 100,
   "metadata": {},
   "outputs": [],
   "source": [
    "account_df.to_csv('./account_infos.csv', sep=',', index = False)\n"
   ]
  }
 ],
 "metadata": {
  "kernelspec": {
   "display_name": "Python 3",
   "language": "python",
   "name": "python3"
  },
  "language_info": {
   "codemirror_mode": {
    "name": "ipython",
    "version": 3
   },
   "file_extension": ".py",
   "mimetype": "text/x-python",
   "name": "python",
   "nbconvert_exporter": "python",
   "pygments_lexer": "ipython3",
   "version": "3.8.1"
  }
 },
 "nbformat": 4,
 "nbformat_minor": 4
}
