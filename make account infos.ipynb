{
 "cells": [
  {
   "cell_type": "code",
   "execution_count": 56,
   "metadata": {},
   "outputs": [],
   "source": [
    "import random\n",
    "import string\n",
    "import pandas as pd\n",
    "from pandas import Series, DataFrame\n",
    "\n"
   ]
  },
  {
   "cell_type": "code",
   "execution_count": 154,
   "metadata": {},
   "outputs": [
    {
     "name": "stdout",
     "output_type": "stream",
     "text": [
      "zsh:1: command not found: pip\r\n"
     ]
    }
   ],
   "source": []
  },
  {
   "cell_type": "code",
   "execution_count": null,
   "metadata": {},
   "outputs": [],
   "source": [
    "Card_ID = []\n",
    "num = random.randrange(0, 100)\n",
    "for i in range(100) :\n",
    "    while num in Card_ID : # 중복될 경우\n",
    "        num = random.randrange(0, 100) # 다시 난수 생성\n",
    "    Card_ID.append(num)\n",
    "#int"
   ]
  },
  {
   "cell_type": "code",
   "execution_count": 13,
   "metadata": {},
   "outputs": [],
   "source": [
    "PIN = []\n",
    "pw_len = 6 # 새 비밀번호 길이\n",
    "pw_candidate = string.digits\n",
    "new_pw = ''\n",
    "for i in range(pw_len):\n",
    "    new_pw += random.choice(pw_candidate)\n",
    "for _ in range(100):\n",
    "    while new_pw in PIN:\n",
    "        new_pw = ''\n",
    "        for i in range(pw_len):\n",
    "            new_pw += random.choice(pw_candidate)\n",
    "    PIN.append(new_pw)"
   ]
  },
  {
   "cell_type": "code",
   "execution_count": 42,
   "metadata": {},
   "outputs": [],
   "source": [
    "def make_acc_name(L):\n",
    "    name_len = L\n",
    "    name_candidate = string.ascii_letters\n",
    "    name = ''\n",
    "    for i in range(name_len):\n",
    "        name += random.choice(name_candidate)\n",
    "    return name\n",
    "def make_balance(L):\n",
    "    bal_len = L\n",
    "    bal_candidate = string.digits\n",
    "    balance = str(random.randrange(1, 10))\n",
    "    for i in range(bal_len - 1):\n",
    "        balance += random.choice(bal_candidate)\n",
    "    return int(balance)"
   ]
  },
  {
   "cell_type": "code",
   "execution_count": 43,
   "metadata": {},
   "outputs": [
    {
     "data": {
      "text/plain": [
       "57316"
      ]
     },
     "execution_count": 43,
     "metadata": {},
     "output_type": "execute_result"
    }
   ],
   "source": [
    "a = make_acc_name(3)\n",
    "b = make_balance(5)\n",
    "b"
   ]
  },
  {
   "cell_type": "code",
   "execution_count": 98,
   "metadata": {},
   "outputs": [],
   "source": [
    "acc_info_list = []\n",
    "name_len = random.randrange(1, 11)\n",
    "for i in range(100):#100 cards\n",
    "    per_acc = []\n",
    "    for i in range(random.randrange(1, 5)):# random accounts\n",
    "        account_name = make_acc_name(random.randrange(1,10))\n",
    "        account_balance = make_balance(random.randrange(1,10))\n",
    "        per_acc.append([account_name, account_balance])\n",
    "    acc_info_list.append(per_acc)\n",
    "\n"
   ]
  },
  {
   "cell_type": "code",
   "execution_count": 99,
   "metadata": {},
   "outputs": [
    {
     "data": {
      "text/html": [
       "<div>\n",
       "<style scoped>\n",
       "    .dataframe tbody tr th:only-of-type {\n",
       "        vertical-align: middle;\n",
       "    }\n",
       "\n",
       "    .dataframe tbody tr th {\n",
       "        vertical-align: top;\n",
       "    }\n",
       "\n",
       "    .dataframe thead th {\n",
       "        text-align: right;\n",
       "    }\n",
       "</style>\n",
       "<table border=\"1\" class=\"dataframe\">\n",
       "  <thead>\n",
       "    <tr style=\"text-align: right;\">\n",
       "      <th></th>\n",
       "      <th>Card_ID</th>\n",
       "      <th>PIN</th>\n",
       "      <th>account_n_balance</th>\n",
       "    </tr>\n",
       "  </thead>\n",
       "  <tbody>\n",
       "    <tr>\n",
       "      <th>0</th>\n",
       "      <td>42</td>\n",
       "      <td>474998</td>\n",
       "      <td>[[btESi, 462042], [LcDGge, 887056], [GTBKeOFG,...</td>\n",
       "    </tr>\n",
       "    <tr>\n",
       "      <th>1</th>\n",
       "      <td>15</td>\n",
       "      <td>067544</td>\n",
       "      <td>[[Jvc, 5175], [ObmNIKJ, 183341], [tSWb, 525]]</td>\n",
       "    </tr>\n",
       "    <tr>\n",
       "      <th>2</th>\n",
       "      <td>75</td>\n",
       "      <td>814571</td>\n",
       "      <td>[[NtkVNcbNL, 362006659], [jAab, 1096833], [nrH...</td>\n",
       "    </tr>\n",
       "    <tr>\n",
       "      <th>3</th>\n",
       "      <td>12</td>\n",
       "      <td>442402</td>\n",
       "      <td>[[lPiEHPsuX, 677]]</td>\n",
       "    </tr>\n",
       "    <tr>\n",
       "      <th>4</th>\n",
       "      <td>2</td>\n",
       "      <td>160008</td>\n",
       "      <td>[[Ju, 1776]]</td>\n",
       "    </tr>\n",
       "    <tr>\n",
       "      <th>...</th>\n",
       "      <td>...</td>\n",
       "      <td>...</td>\n",
       "      <td>...</td>\n",
       "    </tr>\n",
       "    <tr>\n",
       "      <th>95</th>\n",
       "      <td>69</td>\n",
       "      <td>546962</td>\n",
       "      <td>[[wb, 36098], [hBsmhG, 6], [U, 51448534]]</td>\n",
       "    </tr>\n",
       "    <tr>\n",
       "      <th>96</th>\n",
       "      <td>54</td>\n",
       "      <td>775325</td>\n",
       "      <td>[[AviQQru, 12128782], [nbjZZQ, 448018895], [GV...</td>\n",
       "    </tr>\n",
       "    <tr>\n",
       "      <th>97</th>\n",
       "      <td>46</td>\n",
       "      <td>856822</td>\n",
       "      <td>[[Jt, 5], [RuexlQCp, 635], [kHZaJv, 50044818]]</td>\n",
       "    </tr>\n",
       "    <tr>\n",
       "      <th>98</th>\n",
       "      <td>43</td>\n",
       "      <td>970847</td>\n",
       "      <td>[[KJhV, 30457], [R, 91257], [mjx, 564714], [uK...</td>\n",
       "    </tr>\n",
       "    <tr>\n",
       "      <th>99</th>\n",
       "      <td>11</td>\n",
       "      <td>286805</td>\n",
       "      <td>[[fxkZQULc, 907], [duWseyWq, 5716598], [nSHjth...</td>\n",
       "    </tr>\n",
       "  </tbody>\n",
       "</table>\n",
       "<p>100 rows × 3 columns</p>\n",
       "</div>"
      ],
      "text/plain": [
       "    Card_ID     PIN                                  account_n_balance\n",
       "0        42  474998  [[btESi, 462042], [LcDGge, 887056], [GTBKeOFG,...\n",
       "1        15  067544      [[Jvc, 5175], [ObmNIKJ, 183341], [tSWb, 525]]\n",
       "2        75  814571  [[NtkVNcbNL, 362006659], [jAab, 1096833], [nrH...\n",
       "3        12  442402                                 [[lPiEHPsuX, 677]]\n",
       "4         2  160008                                       [[Ju, 1776]]\n",
       "..      ...     ...                                                ...\n",
       "95       69  546962          [[wb, 36098], [hBsmhG, 6], [U, 51448534]]\n",
       "96       54  775325  [[AviQQru, 12128782], [nbjZZQ, 448018895], [GV...\n",
       "97       46  856822     [[Jt, 5], [RuexlQCp, 635], [kHZaJv, 50044818]]\n",
       "98       43  970847  [[KJhV, 30457], [R, 91257], [mjx, 564714], [uK...\n",
       "99       11  286805  [[fxkZQULc, 907], [duWseyWq, 5716598], [nSHjth...\n",
       "\n",
       "[100 rows x 3 columns]"
      ]
     },
     "execution_count": 99,
     "metadata": {},
     "output_type": "execute_result"
    }
   ],
   "source": [
    "account = {'Card_ID' : Card_ID,\n",
    "           'PIN' : PIN,\n",
    "           'account_n_balance': acc_info_list\n",
    "}\n",
    "account_df = DataFrame(account)\n",
    "account_df"
   ]
  },
  {
   "cell_type": "code",
   "execution_count": 100,
   "metadata": {},
   "outputs": [],
   "source": [
    "account_df.to_csv('./account_infos.csv', sep=',', index = False)\n"
   ]
  },
  {
   "cell_type": "code",
   "execution_count": 101,
   "metadata": {},
   "outputs": [
    {
     "data": {
      "text/html": [
       "<div>\n",
       "<style scoped>\n",
       "    .dataframe tbody tr th:only-of-type {\n",
       "        vertical-align: middle;\n",
       "    }\n",
       "\n",
       "    .dataframe tbody tr th {\n",
       "        vertical-align: top;\n",
       "    }\n",
       "\n",
       "    .dataframe thead th {\n",
       "        text-align: right;\n",
       "    }\n",
       "</style>\n",
       "<table border=\"1\" class=\"dataframe\">\n",
       "  <thead>\n",
       "    <tr style=\"text-align: right;\">\n",
       "      <th></th>\n",
       "      <th>Card_ID</th>\n",
       "      <th>PIN</th>\n",
       "      <th>account_n_balance</th>\n",
       "    </tr>\n",
       "  </thead>\n",
       "  <tbody>\n",
       "    <tr>\n",
       "      <th>0</th>\n",
       "      <td>42</td>\n",
       "      <td>474998</td>\n",
       "      <td>[['btESi', 462042], ['LcDGge', 887056], ['GTBK...</td>\n",
       "    </tr>\n",
       "    <tr>\n",
       "      <th>1</th>\n",
       "      <td>15</td>\n",
       "      <td>67544</td>\n",
       "      <td>[['Jvc', 5175], ['ObmNIKJ', 183341], ['tSWb', ...</td>\n",
       "    </tr>\n",
       "    <tr>\n",
       "      <th>2</th>\n",
       "      <td>75</td>\n",
       "      <td>814571</td>\n",
       "      <td>[['NtkVNcbNL', 362006659], ['jAab', 1096833], ...</td>\n",
       "    </tr>\n",
       "    <tr>\n",
       "      <th>3</th>\n",
       "      <td>12</td>\n",
       "      <td>442402</td>\n",
       "      <td>[['lPiEHPsuX', 677]]</td>\n",
       "    </tr>\n",
       "    <tr>\n",
       "      <th>4</th>\n",
       "      <td>2</td>\n",
       "      <td>160008</td>\n",
       "      <td>[['Ju', 1776]]</td>\n",
       "    </tr>\n",
       "    <tr>\n",
       "      <th>...</th>\n",
       "      <td>...</td>\n",
       "      <td>...</td>\n",
       "      <td>...</td>\n",
       "    </tr>\n",
       "    <tr>\n",
       "      <th>95</th>\n",
       "      <td>69</td>\n",
       "      <td>546962</td>\n",
       "      <td>[['wb', 36098], ['hBsmhG', 6], ['U', 51448534]]</td>\n",
       "    </tr>\n",
       "    <tr>\n",
       "      <th>96</th>\n",
       "      <td>54</td>\n",
       "      <td>775325</td>\n",
       "      <td>[['AviQQru', 12128782], ['nbjZZQ', 448018895],...</td>\n",
       "    </tr>\n",
       "    <tr>\n",
       "      <th>97</th>\n",
       "      <td>46</td>\n",
       "      <td>856822</td>\n",
       "      <td>[['Jt', 5], ['RuexlQCp', 635], ['kHZaJv', 5004...</td>\n",
       "    </tr>\n",
       "    <tr>\n",
       "      <th>98</th>\n",
       "      <td>43</td>\n",
       "      <td>970847</td>\n",
       "      <td>[['KJhV', 30457], ['R', 91257], ['mjx', 564714...</td>\n",
       "    </tr>\n",
       "    <tr>\n",
       "      <th>99</th>\n",
       "      <td>11</td>\n",
       "      <td>286805</td>\n",
       "      <td>[['fxkZQULc', 907], ['duWseyWq', 5716598], ['n...</td>\n",
       "    </tr>\n",
       "  </tbody>\n",
       "</table>\n",
       "<p>100 rows × 3 columns</p>\n",
       "</div>"
      ],
      "text/plain": [
       "    Card_ID     PIN                                  account_n_balance\n",
       "0        42  474998  [['btESi', 462042], ['LcDGge', 887056], ['GTBK...\n",
       "1        15   67544  [['Jvc', 5175], ['ObmNIKJ', 183341], ['tSWb', ...\n",
       "2        75  814571  [['NtkVNcbNL', 362006659], ['jAab', 1096833], ...\n",
       "3        12  442402                               [['lPiEHPsuX', 677]]\n",
       "4         2  160008                                     [['Ju', 1776]]\n",
       "..      ...     ...                                                ...\n",
       "95       69  546962    [['wb', 36098], ['hBsmhG', 6], ['U', 51448534]]\n",
       "96       54  775325  [['AviQQru', 12128782], ['nbjZZQ', 448018895],...\n",
       "97       46  856822  [['Jt', 5], ['RuexlQCp', 635], ['kHZaJv', 5004...\n",
       "98       43  970847  [['KJhV', 30457], ['R', 91257], ['mjx', 564714...\n",
       "99       11  286805  [['fxkZQULc', 907], ['duWseyWq', 5716598], ['n...\n",
       "\n",
       "[100 rows x 3 columns]"
      ]
     },
     "execution_count": 101,
     "metadata": {},
     "output_type": "execute_result"
    }
   ],
   "source": [
    "account_info = pd.read_csv(\"./account_infos.csv\")\n",
    "account_info"
   ]
  },
  {
   "cell_type": "code",
   "execution_count": 102,
   "metadata": {},
   "outputs": [
    {
     "data": {
      "text/html": [
       "<div>\n",
       "<style scoped>\n",
       "    .dataframe tbody tr th:only-of-type {\n",
       "        vertical-align: middle;\n",
       "    }\n",
       "\n",
       "    .dataframe tbody tr th {\n",
       "        vertical-align: top;\n",
       "    }\n",
       "\n",
       "    .dataframe thead th {\n",
       "        text-align: right;\n",
       "    }\n",
       "</style>\n",
       "<table border=\"1\" class=\"dataframe\">\n",
       "  <thead>\n",
       "    <tr style=\"text-align: right;\">\n",
       "      <th></th>\n",
       "      <th>Card_ID</th>\n",
       "      <th>PIN</th>\n",
       "      <th>account_n_balance</th>\n",
       "    </tr>\n",
       "  </thead>\n",
       "  <tbody>\n",
       "    <tr>\n",
       "      <th>0</th>\n",
       "      <td>42</td>\n",
       "      <td>474998</td>\n",
       "      <td>[['btESi', 462042], ['LcDGge', 887056], ['GTBK...</td>\n",
       "    </tr>\n",
       "  </tbody>\n",
       "</table>\n",
       "</div>"
      ],
      "text/plain": [
       "   Card_ID     PIN                                  account_n_balance\n",
       "0       42  474998  [['btESi', 462042], ['LcDGge', 887056], ['GTBK..."
      ]
     },
     "execution_count": 102,
     "metadata": {},
     "output_type": "execute_result"
    }
   ],
   "source": [
    "id_info = account_info[account_info['Card_ID'] == 42]\n"
   ]
  },
  {
   "cell_type": "code",
   "execution_count": 139,
   "metadata": {},
   "outputs": [
    {
     "name": "stderr",
     "output_type": "stream",
     "text": [
      "<ipython-input-139-24432dca820d>:1: SettingWithCopyWarning: \n",
      "A value is trying to be set on a copy of a slice from a DataFrame.\n",
      "Try using .loc[row_indexer,col_indexer] = value instead\n",
      "\n",
      "See the caveats in the documentation: https://pandas.pydata.org/pandas-docs/stable/user_guide/indexing.html#returning-a-view-versus-a-copy\n",
      "  account_info[account_info['Card_ID'] == 42]['account_n_balance'] = str(account)\n"
     ]
    }
   ],
   "source": [
    "account_info[account_info['Card_ID'] == 42]['account_n_balance'] = str(account)"
   ]
  },
  {
   "cell_type": "code",
   "execution_count": 141,
   "metadata": {},
   "outputs": [
    {
     "data": {
      "text/html": [
       "<div>\n",
       "<style scoped>\n",
       "    .dataframe tbody tr th:only-of-type {\n",
       "        vertical-align: middle;\n",
       "    }\n",
       "\n",
       "    .dataframe tbody tr th {\n",
       "        vertical-align: top;\n",
       "    }\n",
       "\n",
       "    .dataframe thead th {\n",
       "        text-align: right;\n",
       "    }\n",
       "</style>\n",
       "<table border=\"1\" class=\"dataframe\">\n",
       "  <thead>\n",
       "    <tr style=\"text-align: right;\">\n",
       "      <th></th>\n",
       "      <th>Card_ID</th>\n",
       "      <th>PIN</th>\n",
       "      <th>account_n_balance</th>\n",
       "    </tr>\n",
       "  </thead>\n",
       "  <tbody>\n",
       "    <tr>\n",
       "      <th>0</th>\n",
       "      <td>42</td>\n",
       "      <td>474998</td>\n",
       "      <td>[['btESi', 462042], ['LcDGge', 887056], ['GTBK...</td>\n",
       "    </tr>\n",
       "    <tr>\n",
       "      <th>1</th>\n",
       "      <td>15</td>\n",
       "      <td>67544</td>\n",
       "      <td>[['Jvc', 5175], ['ObmNIKJ', 183341], ['tSWb', ...</td>\n",
       "    </tr>\n",
       "    <tr>\n",
       "      <th>2</th>\n",
       "      <td>75</td>\n",
       "      <td>814571</td>\n",
       "      <td>[['NtkVNcbNL', 362006659], ['jAab', 1096833], ...</td>\n",
       "    </tr>\n",
       "    <tr>\n",
       "      <th>3</th>\n",
       "      <td>12</td>\n",
       "      <td>442402</td>\n",
       "      <td>[['lPiEHPsuX', 677]]</td>\n",
       "    </tr>\n",
       "    <tr>\n",
       "      <th>4</th>\n",
       "      <td>2</td>\n",
       "      <td>160008</td>\n",
       "      <td>[['Ju', 1776]]</td>\n",
       "    </tr>\n",
       "    <tr>\n",
       "      <th>...</th>\n",
       "      <td>...</td>\n",
       "      <td>...</td>\n",
       "      <td>...</td>\n",
       "    </tr>\n",
       "    <tr>\n",
       "      <th>95</th>\n",
       "      <td>69</td>\n",
       "      <td>546962</td>\n",
       "      <td>[['wb', 36098], ['hBsmhG', 6], ['U', 51448534]]</td>\n",
       "    </tr>\n",
       "    <tr>\n",
       "      <th>96</th>\n",
       "      <td>54</td>\n",
       "      <td>775325</td>\n",
       "      <td>[['AviQQru', 12128782], ['nbjZZQ', 448018895],...</td>\n",
       "    </tr>\n",
       "    <tr>\n",
       "      <th>97</th>\n",
       "      <td>46</td>\n",
       "      <td>856822</td>\n",
       "      <td>[['Jt', 5], ['RuexlQCp', 635], ['kHZaJv', 5004...</td>\n",
       "    </tr>\n",
       "    <tr>\n",
       "      <th>98</th>\n",
       "      <td>43</td>\n",
       "      <td>970847</td>\n",
       "      <td>[['KJhV', 30457], ['R', 91257], ['mjx', 564714...</td>\n",
       "    </tr>\n",
       "    <tr>\n",
       "      <th>99</th>\n",
       "      <td>11</td>\n",
       "      <td>286805</td>\n",
       "      <td>[['fxkZQULc', 907], ['duWseyWq', 5716598], ['n...</td>\n",
       "    </tr>\n",
       "  </tbody>\n",
       "</table>\n",
       "<p>100 rows × 3 columns</p>\n",
       "</div>"
      ],
      "text/plain": [
       "    Card_ID     PIN                                  account_n_balance\n",
       "0        42  474998  [['btESi', 462042], ['LcDGge', 887056], ['GTBK...\n",
       "1        15   67544  [['Jvc', 5175], ['ObmNIKJ', 183341], ['tSWb', ...\n",
       "2        75  814571  [['NtkVNcbNL', 362006659], ['jAab', 1096833], ...\n",
       "3        12  442402                               [['lPiEHPsuX', 677]]\n",
       "4         2  160008                                     [['Ju', 1776]]\n",
       "..      ...     ...                                                ...\n",
       "95       69  546962    [['wb', 36098], ['hBsmhG', 6], ['U', 51448534]]\n",
       "96       54  775325  [['AviQQru', 12128782], ['nbjZZQ', 448018895],...\n",
       "97       46  856822  [['Jt', 5], ['RuexlQCp', 635], ['kHZaJv', 5004...\n",
       "98       43  970847  [['KJhV', 30457], ['R', 91257], ['mjx', 564714...\n",
       "99       11  286805  [['fxkZQULc', 907], ['duWseyWq', 5716598], ['n...\n",
       "\n",
       "[100 rows x 3 columns]"
      ]
     },
     "execution_count": 141,
     "metadata": {},
     "output_type": "execute_result"
    }
   ],
   "source": [
    "account_info"
   ]
  },
  {
   "cell_type": "code",
   "execution_count": 136,
   "metadata": {},
   "outputs": [
    {
     "name": "stderr",
     "output_type": "stream",
     "text": [
      "<ipython-input-136-8d0336dd5d11>:1: SettingWithCopyWarning: \n",
      "A value is trying to be set on a copy of a slice from a DataFrame.\n",
      "Try using .loc[row_indexer,col_indexer] = value instead\n",
      "\n",
      "See the caveats in the documentation: https://pandas.pydata.org/pandas-docs/stable/user_guide/indexing.html#returning-a-view-versus-a-copy\n",
      "  id_info['account_n_balance'] = str(account)\n"
     ]
    },
    {
     "data": {
      "text/html": [
       "<div>\n",
       "<style scoped>\n",
       "    .dataframe tbody tr th:only-of-type {\n",
       "        vertical-align: middle;\n",
       "    }\n",
       "\n",
       "    .dataframe tbody tr th {\n",
       "        vertical-align: top;\n",
       "    }\n",
       "\n",
       "    .dataframe thead th {\n",
       "        text-align: right;\n",
       "    }\n",
       "</style>\n",
       "<table border=\"1\" class=\"dataframe\">\n",
       "  <thead>\n",
       "    <tr style=\"text-align: right;\">\n",
       "      <th></th>\n",
       "      <th>Card_ID</th>\n",
       "      <th>PIN</th>\n",
       "      <th>account_n_balance</th>\n",
       "    </tr>\n",
       "  </thead>\n",
       "  <tbody>\n",
       "    <tr>\n",
       "      <th>0</th>\n",
       "      <td>42</td>\n",
       "      <td>474998</td>\n",
       "      <td>[['btESi', 507285], ['LcDGge', 887056], ['GTBK...</td>\n",
       "    </tr>\n",
       "  </tbody>\n",
       "</table>\n",
       "</div>"
      ],
      "text/plain": [
       "   Card_ID     PIN                                  account_n_balance\n",
       "0       42  474998  [['btESi', 507285], ['LcDGge', 887056], ['GTBK..."
      ]
     },
     "execution_count": 136,
     "metadata": {},
     "output_type": "execute_result"
    }
   ],
   "source": [
    "id_info['account_n_balance'] = str(account)\n",
    "id_info"
   ]
  },
  {
   "cell_type": "code",
   "execution_count": 147,
   "metadata": {},
   "outputs": [
    {
     "data": {
      "text/plain": [
       "Int64Index([0], dtype='int64')"
      ]
     },
     "execution_count": 147,
     "metadata": {},
     "output_type": "execute_result"
    }
   ],
   "source": [
    "# account_info.drop(account_info['Card_ID'] == 42)\n",
    "idx = account_info[account_info['Card_ID'] == 42].index\n",
    "idx"
   ]
  },
  {
   "cell_type": "code",
   "execution_count": 151,
   "metadata": {},
   "outputs": [],
   "source": [
    "account_info = account_info.drop(idx)"
   ]
  },
  {
   "cell_type": "code",
   "execution_count": 152,
   "metadata": {},
   "outputs": [],
   "source": [
    "new_info = pd.concat([account_info, id_info])"
   ]
  },
  {
   "cell_type": "code",
   "execution_count": 153,
   "metadata": {},
   "outputs": [
    {
     "data": {
      "text/html": [
       "<div>\n",
       "<style scoped>\n",
       "    .dataframe tbody tr th:only-of-type {\n",
       "        vertical-align: middle;\n",
       "    }\n",
       "\n",
       "    .dataframe tbody tr th {\n",
       "        vertical-align: top;\n",
       "    }\n",
       "\n",
       "    .dataframe thead th {\n",
       "        text-align: right;\n",
       "    }\n",
       "</style>\n",
       "<table border=\"1\" class=\"dataframe\">\n",
       "  <thead>\n",
       "    <tr style=\"text-align: right;\">\n",
       "      <th></th>\n",
       "      <th>Card_ID</th>\n",
       "      <th>PIN</th>\n",
       "      <th>account_n_balance</th>\n",
       "    </tr>\n",
       "  </thead>\n",
       "  <tbody>\n",
       "    <tr>\n",
       "      <th>1</th>\n",
       "      <td>15</td>\n",
       "      <td>67544</td>\n",
       "      <td>[['Jvc', 5175], ['ObmNIKJ', 183341], ['tSWb', ...</td>\n",
       "    </tr>\n",
       "    <tr>\n",
       "      <th>2</th>\n",
       "      <td>75</td>\n",
       "      <td>814571</td>\n",
       "      <td>[['NtkVNcbNL', 362006659], ['jAab', 1096833], ...</td>\n",
       "    </tr>\n",
       "    <tr>\n",
       "      <th>3</th>\n",
       "      <td>12</td>\n",
       "      <td>442402</td>\n",
       "      <td>[['lPiEHPsuX', 677]]</td>\n",
       "    </tr>\n",
       "    <tr>\n",
       "      <th>4</th>\n",
       "      <td>2</td>\n",
       "      <td>160008</td>\n",
       "      <td>[['Ju', 1776]]</td>\n",
       "    </tr>\n",
       "    <tr>\n",
       "      <th>5</th>\n",
       "      <td>61</td>\n",
       "      <td>139095</td>\n",
       "      <td>[['JdnIsTe', 582382772], ['gqngHnmz', 85270112]]</td>\n",
       "    </tr>\n",
       "    <tr>\n",
       "      <th>...</th>\n",
       "      <td>...</td>\n",
       "      <td>...</td>\n",
       "      <td>...</td>\n",
       "    </tr>\n",
       "    <tr>\n",
       "      <th>96</th>\n",
       "      <td>54</td>\n",
       "      <td>775325</td>\n",
       "      <td>[['AviQQru', 12128782], ['nbjZZQ', 448018895],...</td>\n",
       "    </tr>\n",
       "    <tr>\n",
       "      <th>97</th>\n",
       "      <td>46</td>\n",
       "      <td>856822</td>\n",
       "      <td>[['Jt', 5], ['RuexlQCp', 635], ['kHZaJv', 5004...</td>\n",
       "    </tr>\n",
       "    <tr>\n",
       "      <th>98</th>\n",
       "      <td>43</td>\n",
       "      <td>970847</td>\n",
       "      <td>[['KJhV', 30457], ['R', 91257], ['mjx', 564714...</td>\n",
       "    </tr>\n",
       "    <tr>\n",
       "      <th>99</th>\n",
       "      <td>11</td>\n",
       "      <td>286805</td>\n",
       "      <td>[['fxkZQULc', 907], ['duWseyWq', 5716598], ['n...</td>\n",
       "    </tr>\n",
       "    <tr>\n",
       "      <th>0</th>\n",
       "      <td>42</td>\n",
       "      <td>474998</td>\n",
       "      <td>[['btESi', 507285], ['LcDGge', 887056], ['GTBK...</td>\n",
       "    </tr>\n",
       "  </tbody>\n",
       "</table>\n",
       "<p>100 rows × 3 columns</p>\n",
       "</div>"
      ],
      "text/plain": [
       "    Card_ID     PIN                                  account_n_balance\n",
       "1        15   67544  [['Jvc', 5175], ['ObmNIKJ', 183341], ['tSWb', ...\n",
       "2        75  814571  [['NtkVNcbNL', 362006659], ['jAab', 1096833], ...\n",
       "3        12  442402                               [['lPiEHPsuX', 677]]\n",
       "4         2  160008                                     [['Ju', 1776]]\n",
       "5        61  139095   [['JdnIsTe', 582382772], ['gqngHnmz', 85270112]]\n",
       "..      ...     ...                                                ...\n",
       "96       54  775325  [['AviQQru', 12128782], ['nbjZZQ', 448018895],...\n",
       "97       46  856822  [['Jt', 5], ['RuexlQCp', 635], ['kHZaJv', 5004...\n",
       "98       43  970847  [['KJhV', 30457], ['R', 91257], ['mjx', 564714...\n",
       "99       11  286805  [['fxkZQULc', 907], ['duWseyWq', 5716598], ['n...\n",
       "0        42  474998  [['btESi', 507285], ['LcDGge', 887056], ['GTBK...\n",
       "\n",
       "[100 rows x 3 columns]"
      ]
     },
     "execution_count": 153,
     "metadata": {},
     "output_type": "execute_result"
    }
   ],
   "source": [
    "new_info"
   ]
  },
  {
   "cell_type": "code",
   "execution_count": 103,
   "metadata": {},
   "outputs": [
    {
     "data": {
      "text/plain": [
       "[['btESi', 462042], ['LcDGge', 887056], ['GTBKeOFG', 8863]]"
      ]
     },
     "execution_count": 103,
     "metadata": {},
     "output_type": "execute_result"
    }
   ],
   "source": [
    "acc = id_info['account_n_balance'][0]\n",
    "account = ast.literal_eval(id_info['account_n_balance'][0])\n",
    "account\n"
   ]
  },
  {
   "cell_type": "code",
   "execution_count": 104,
   "metadata": {},
   "outputs": [],
   "source": [
    "account[0][1] = account[0][1] + 45243\n"
   ]
  },
  {
   "cell_type": "code",
   "execution_count": 122,
   "metadata": {},
   "outputs": [
    {
     "data": {
      "text/plain": [
       "[['btESi', 507285], ['LcDGge', 887056], ['GTBKeOFG', 8863]]"
      ]
     },
     "execution_count": 122,
     "metadata": {},
     "output_type": "execute_result"
    }
   ],
   "source": [
    "account"
   ]
  },
  {
   "cell_type": "code",
   "execution_count": 118,
   "metadata": {},
   "outputs": [
    {
     "name": "stderr",
     "output_type": "stream",
     "text": [
      "/Library/Frameworks/Python.framework/Versions/3.8/lib/python3.8/site-packages/IPython/core/interactiveshell.py:3343: SettingWithCopyWarning: \n",
      "A value is trying to be set on a copy of a slice from a DataFrame\n",
      "\n",
      "See the caveats in the documentation: https://pandas.pydata.org/pandas-docs/stable/user_guide/indexing.html#returning-a-view-versus-a-copy\n",
      "  exec(code_obj, self.user_global_ns, self.user_ns)\n"
     ]
    }
   ],
   "source": [
    "account_info[account_info['Card_ID'] == 42]['account_n_balance'][0] = str(account)"
   ]
  },
  {
   "cell_type": "code",
   "execution_count": 125,
   "metadata": {},
   "outputs": [
    {
     "name": "stderr",
     "output_type": "stream",
     "text": [
      "<ipython-input-125-0807dd2ae195>:1: SettingWithCopyWarning: \n",
      "A value is trying to be set on a copy of a slice from a DataFrame\n",
      "\n",
      "See the caveats in the documentation: https://pandas.pydata.org/pandas-docs/stable/user_guide/indexing.html#returning-a-view-versus-a-copy\n",
      "  account_info.loc[0]['account_n_balance'] = account\n"
     ]
    }
   ],
   "source": [
    "account_info.loc[0]['account_n_balance'] = account"
   ]
  },
  {
   "cell_type": "code",
   "execution_count": 131,
   "metadata": {},
   "outputs": [],
   "source": [
    "new_info = account_info.copy()"
   ]
  },
  {
   "cell_type": "code",
   "execution_count": 134,
   "metadata": {},
   "outputs": [
    {
     "data": {
      "text/html": [
       "<div>\n",
       "<style scoped>\n",
       "    .dataframe tbody tr th:only-of-type {\n",
       "        vertical-align: middle;\n",
       "    }\n",
       "\n",
       "    .dataframe tbody tr th {\n",
       "        vertical-align: top;\n",
       "    }\n",
       "\n",
       "    .dataframe thead th {\n",
       "        text-align: right;\n",
       "    }\n",
       "</style>\n",
       "<table border=\"1\" class=\"dataframe\">\n",
       "  <thead>\n",
       "    <tr style=\"text-align: right;\">\n",
       "      <th></th>\n",
       "      <th>Card_ID</th>\n",
       "      <th>PIN</th>\n",
       "      <th>account_n_balance</th>\n",
       "    </tr>\n",
       "  </thead>\n",
       "  <tbody>\n",
       "    <tr>\n",
       "      <th>0</th>\n",
       "      <td>42</td>\n",
       "      <td>474998</td>\n",
       "      <td>[['btESi', 462042], ['LcDGge', 887056], ['GTBK...</td>\n",
       "    </tr>\n",
       "    <tr>\n",
       "      <th>1</th>\n",
       "      <td>15</td>\n",
       "      <td>67544</td>\n",
       "      <td>[['Jvc', 5175], ['ObmNIKJ', 183341], ['tSWb', ...</td>\n",
       "    </tr>\n",
       "    <tr>\n",
       "      <th>2</th>\n",
       "      <td>75</td>\n",
       "      <td>814571</td>\n",
       "      <td>[['NtkVNcbNL', 362006659], ['jAab', 1096833], ...</td>\n",
       "    </tr>\n",
       "    <tr>\n",
       "      <th>3</th>\n",
       "      <td>12</td>\n",
       "      <td>442402</td>\n",
       "      <td>[['lPiEHPsuX', 677]]</td>\n",
       "    </tr>\n",
       "    <tr>\n",
       "      <th>4</th>\n",
       "      <td>2</td>\n",
       "      <td>160008</td>\n",
       "      <td>[['Ju', 1776]]</td>\n",
       "    </tr>\n",
       "    <tr>\n",
       "      <th>...</th>\n",
       "      <td>...</td>\n",
       "      <td>...</td>\n",
       "      <td>...</td>\n",
       "    </tr>\n",
       "    <tr>\n",
       "      <th>95</th>\n",
       "      <td>69</td>\n",
       "      <td>546962</td>\n",
       "      <td>[['wb', 36098], ['hBsmhG', 6], ['U', 51448534]]</td>\n",
       "    </tr>\n",
       "    <tr>\n",
       "      <th>96</th>\n",
       "      <td>54</td>\n",
       "      <td>775325</td>\n",
       "      <td>[['AviQQru', 12128782], ['nbjZZQ', 448018895],...</td>\n",
       "    </tr>\n",
       "    <tr>\n",
       "      <th>97</th>\n",
       "      <td>46</td>\n",
       "      <td>856822</td>\n",
       "      <td>[['Jt', 5], ['RuexlQCp', 635], ['kHZaJv', 5004...</td>\n",
       "    </tr>\n",
       "    <tr>\n",
       "      <th>98</th>\n",
       "      <td>43</td>\n",
       "      <td>970847</td>\n",
       "      <td>[['KJhV', 30457], ['R', 91257], ['mjx', 564714...</td>\n",
       "    </tr>\n",
       "    <tr>\n",
       "      <th>99</th>\n",
       "      <td>11</td>\n",
       "      <td>286805</td>\n",
       "      <td>[['fxkZQULc', 907], ['duWseyWq', 5716598], ['n...</td>\n",
       "    </tr>\n",
       "  </tbody>\n",
       "</table>\n",
       "<p>100 rows × 3 columns</p>\n",
       "</div>"
      ],
      "text/plain": [
       "    Card_ID     PIN                                  account_n_balance\n",
       "0        42  474998  [['btESi', 462042], ['LcDGge', 887056], ['GTBK...\n",
       "1        15   67544  [['Jvc', 5175], ['ObmNIKJ', 183341], ['tSWb', ...\n",
       "2        75  814571  [['NtkVNcbNL', 362006659], ['jAab', 1096833], ...\n",
       "3        12  442402                               [['lPiEHPsuX', 677]]\n",
       "4         2  160008                                     [['Ju', 1776]]\n",
       "..      ...     ...                                                ...\n",
       "95       69  546962    [['wb', 36098], ['hBsmhG', 6], ['U', 51448534]]\n",
       "96       54  775325  [['AviQQru', 12128782], ['nbjZZQ', 448018895],...\n",
       "97       46  856822  [['Jt', 5], ['RuexlQCp', 635], ['kHZaJv', 5004...\n",
       "98       43  970847  [['KJhV', 30457], ['R', 91257], ['mjx', 564714...\n",
       "99       11  286805  [['fxkZQULc', 907], ['duWseyWq', 5716598], ['n...\n",
       "\n",
       "[100 rows x 3 columns]"
      ]
     },
     "execution_count": 134,
     "metadata": {},
     "output_type": "execute_result"
    }
   ],
   "source": [
    "new_info"
   ]
  },
  {
   "cell_type": "code",
   "execution_count": 79,
   "metadata": {},
   "outputs": [],
   "source": [
    "import ast \n",
    "def bring_info(id):\n",
    "    id_info = account_info[account_info['Card_ID'] == id]\n",
    "    pin = id_info['PIN']\n",
    "    account = ast.literal_eval(id_info['account_n_balance'][0])\n",
    "    return pin, accounts\n",
    "    \n",
    "    \n",
    "    "
   ]
  },
  {
   "cell_type": "code",
   "execution_count": null,
   "metadata": {},
   "outputs": [],
   "source": []
  },
  {
   "cell_type": "code",
   "execution_count": null,
   "metadata": {},
   "outputs": [],
   "source": []
  },
  {
   "cell_type": "code",
   "execution_count": 90,
   "metadata": {},
   "outputs": [],
   "source": [
    "def show_account(card_account):\n",
    "    for i in range(1, len(card_account) + 1):\n",
    "        print(\"{}. {}\".format(i,card_account[i-1][0]))\n",
    "def show_menu():\n",
    "    print(\"------------------\")\n",
    "    print(\"1. balance\")\n",
    "    print(\"2. Deposit\")\n",
    "    print(\"3. Withdraw\")\n",
    "    print(\"------------------\")\n",
    "    menu = int(input(\"Please choose one: \"))\n",
    "    return menu\n",
    "\n",
    "def deposit(selected_account, money, card_account):\n",
    "    card_account[selected_account -1][1] = card_account[selected_account-1][1] + money\n",
    "    \n",
    "    \n",
    "    \n",
    "    "
   ]
  },
  {
   "cell_type": "code",
   "execution_count": 83,
   "metadata": {},
   "outputs": [
    {
     "data": {
      "text/plain": [
       "0    42\n",
       "Name: Card_ID, dtype: int64"
      ]
     },
     "execution_count": 83,
     "metadata": {},
     "output_type": "execute_result"
    }
   ],
   "source": [
    "id_info['Card_ID']"
   ]
  },
  {
   "cell_type": "code",
   "execution_count": 107,
   "metadata": {},
   "outputs": [
    {
     "name": "stdout",
     "output_type": "stream",
     "text": [
      "1. btESi\n",
      "2. LcDGge\n",
      "3. GTBKeOFG\n"
     ]
    }
   ],
   "source": [
    "i = 1\n",
    "show_account(account)"
   ]
  },
  {
   "cell_type": "code",
   "execution_count": null,
   "metadata": {},
   "outputs": [],
   "source": [
    "account"
   ]
  }
 ],
 "metadata": {
  "kernelspec": {
   "display_name": "Python 3",
   "language": "python",
   "name": "python3"
  },
  "language_info": {
   "codemirror_mode": {
    "name": "ipython",
    "version": 3
   },
   "file_extension": ".py",
   "mimetype": "text/x-python",
   "name": "python",
   "nbconvert_exporter": "python",
   "pygments_lexer": "ipython3",
   "version": "3.8.1"
  }
 },
 "nbformat": 4,
 "nbformat_minor": 4
}
